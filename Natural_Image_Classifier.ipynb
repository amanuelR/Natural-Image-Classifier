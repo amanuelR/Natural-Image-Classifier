{
  "nbformat": 4,
  "nbformat_minor": 0,
  "metadata": {
    "colab": {
      "provenance": [],
      "toc_visible": true
    },
    "kernelspec": {
      "name": "python3",
      "display_name": "Python 3"
    },
    "language_info": {
      "name": "python"
    },
    "accelerator": "GPU",
    "gpuClass": "standard"
  },
  "cells": [
    {
      "cell_type": "code",
      "source": [
        "# setting up the connection between kaggle and colab"
      ],
      "metadata": {
        "id": "gsQagYOVNvke"
      },
      "execution_count": null,
      "outputs": []
    },
    {
      "cell_type": "code",
      "execution_count": null,
      "metadata": {
        "id": "bVTEPsPoMmxO"
      },
      "outputs": [],
      "source": [
        "pip install kaggle "
      ]
    },
    {
      "cell_type": "code",
      "source": [
        "mkdir ~/.kaggle"
      ],
      "metadata": {
        "id": "oXB2lBSYM5MS"
      },
      "execution_count": null,
      "outputs": []
    },
    {
      "cell_type": "code",
      "source": [
        "cp kaggle.json ~/.kaggle"
      ],
      "metadata": {
        "id": "v6nH-BAHM_Fi"
      },
      "execution_count": null,
      "outputs": []
    },
    {
      "cell_type": "code",
      "source": [
        "! kaggle datasets download -d prasunroy/natural-images"
      ],
      "metadata": {
        "id": "Kk677l5ANBkU"
      },
      "execution_count": null,
      "outputs": []
    },
    {
      "cell_type": "code",
      "source": [
        "! unzip natural-images.zip"
      ],
      "metadata": {
        "id": "mkK_uCuyNGPt"
      },
      "execution_count": null,
      "outputs": []
    },
    {
      "cell_type": "code",
      "source": [
        "# import libs"
      ],
      "metadata": {
        "id": "eg5LBwIgOIUR"
      },
      "execution_count": null,
      "outputs": []
    },
    {
      "cell_type": "code",
      "source": [
        "import os\n",
        "from tensorflow import keras\n",
        "from tensorflow.keras import layers\n",
        "from tensorflow.keras.models import Sequential\n",
        "import matplotlib.pyplot as plt\n",
        "from tensorflow.python.keras import regularizers\n",
        "from keras import optimizers, metrics, models\n",
        "from keras.layers import Dense, Conv2D, Flatten, Activation, MaxPooling2D, Dropout"
      ],
      "metadata": {
        "id": "y_uE-j7GNHF7"
      },
      "execution_count": 29,
      "outputs": []
    },
    {
      "cell_type": "code",
      "source": [
        "# setting up the data and spliting it for test and training"
      ],
      "metadata": {
        "id": "0Wo01MxcONTx"
      },
      "execution_count": null,
      "outputs": []
    },
    {
      "cell_type": "code",
      "source": [
        "data_dir ='./natural_images'\n",
        "batch_size = 32\n",
        "img_height = 180\n",
        "img_width = 180"
      ],
      "metadata": {
        "id": "6xRPH6opNZUB"
      },
      "execution_count": null,
      "outputs": []
    },
    {
      "cell_type": "code",
      "source": [
        "train_ds = keras.preprocessing.image_dataset_from_directory(\n",
        "                                                              data_dir,\n",
        "                                                              validation_split=0.2,\n",
        "                                                              subset=\"training\",\n",
        "                                                              seed=123,\n",
        "                                                              image_size=(img_height, img_width),\n",
        "                                                              batch_size=batch_size\n",
        "                                                            )"
      ],
      "metadata": {
        "id": "2ymi1jcwNkZ7"
      },
      "execution_count": null,
      "outputs": []
    },
    {
      "cell_type": "code",
      "source": [
        "val_ds = keras.preprocessing.image_dataset_from_directory(\n",
        "                                                            data_dir,\n",
        "                                                            validation_split=0.2,\n",
        "                                                            subset=\"validation\",\n",
        "                                                            seed=123,\n",
        "                                                            image_size=(img_height, img_width),\n",
        "                                                            batch_size=batch_size\n",
        "                                                          )"
      ],
      "metadata": {
        "colab": {
          "base_uri": "https://localhost:8080/"
        },
        "id": "8WC14mxCNlxr",
        "outputId": "144d5467-83c2-4712-e3a1-a88d0bbeee6b"
      },
      "execution_count": null,
      "outputs": [
        {
          "output_type": "stream",
          "name": "stdout",
          "text": [
            "Found 6899 files belonging to 8 classes.\n",
            "Using 1379 files for validation.\n"
          ]
        }
      ]
    },
    {
      "cell_type": "code",
      "source": [
        "# validating our data is corrextly retrived \n",
        "class_names = train_ds.class_names\n",
        "print(class_names)"
      ],
      "metadata": {
        "colab": {
          "base_uri": "https://localhost:8080/"
        },
        "id": "88pkr6ZHOqTG",
        "outputId": "d3f0ee05-2225-44f4-82e3-c66336e787e0"
      },
      "execution_count": null,
      "outputs": [
        {
          "output_type": "stream",
          "name": "stdout",
          "text": [
            "['airplane', 'car', 'cat', 'dog', 'flower', 'fruit', 'motorbike', 'person']\n"
          ]
        }
      ]
    },
    {
      "cell_type": "code",
      "source": [
        "# first lets train our model using adam for optimization, 10 epochs and relu for activation \n",
        "model = Sequential([\n",
        "  layers.Dense(10, activation='relu'),\n",
        "  layers.Flatten(),\n",
        "  layers.Dense(len(class_names))\n",
        "])\n",
        "\n",
        "model.compile( optimizer='adam',\n",
        "               loss=keras.losses.SparseCategoricalCrossentropy(from_logits=True),\n",
        "               metrics=['accuracy'])\n",
        "history = model.fit(\n",
        "  train_ds,\n",
        "  validation_data=val_ds,\n",
        "  epochs=10\n",
        ")"
      ],
      "metadata": {
        "colab": {
          "base_uri": "https://localhost:8080/"
        },
        "id": "FdMtqHSnSSox",
        "outputId": "1a31b946-e3af-46bf-f801-db4859bdafbe"
      },
      "execution_count": null,
      "outputs": [
        {
          "output_type": "stream",
          "name": "stdout",
          "text": [
            "Epoch 1/10\n",
            "173/173 [==============================] - 11s 46ms/step - loss: 1711.6512 - accuracy: 0.5897 - val_loss: 824.5009 - val_accuracy: 0.6657\n",
            "Epoch 2/10\n",
            "173/173 [==============================] - 8s 44ms/step - loss: 492.4800 - accuracy: 0.7437 - val_loss: 649.7548 - val_accuracy: 0.7034\n",
            "Epoch 3/10\n",
            "173/173 [==============================] - 8s 43ms/step - loss: 402.0859 - accuracy: 0.7817 - val_loss: 477.5574 - val_accuracy: 0.7563\n",
            "Epoch 4/10\n",
            "173/173 [==============================] - 8s 44ms/step - loss: 240.8939 - accuracy: 0.8264 - val_loss: 341.1670 - val_accuracy: 0.7737\n",
            "Epoch 5/10\n",
            "173/173 [==============================] - 8s 44ms/step - loss: 221.0638 - accuracy: 0.8399 - val_loss: 489.4765 - val_accuracy: 0.7324\n",
            "Epoch 6/10\n",
            "173/173 [==============================] - 8s 43ms/step - loss: 148.7205 - accuracy: 0.8598 - val_loss: 251.5982 - val_accuracy: 0.8122\n",
            "Epoch 7/10\n",
            "173/173 [==============================] - 8s 43ms/step - loss: 110.7754 - accuracy: 0.8801 - val_loss: 343.5919 - val_accuracy: 0.7810\n",
            "Epoch 8/10\n",
            "173/173 [==============================] - 9s 54ms/step - loss: 112.0049 - accuracy: 0.8726 - val_loss: 277.9146 - val_accuracy: 0.7977\n",
            "Epoch 9/10\n",
            "173/173 [==============================] - 8s 43ms/step - loss: 67.8157 - accuracy: 0.9065 - val_loss: 223.7927 - val_accuracy: 0.8122\n"
          ]
        }
      ]
    },
    {
      "cell_type": "code",
      "source": [
        "# lets see our model acurracy based on what we created above\n",
        "test_loss, test_acc = model.evaluate(val_ds, verbose=2)\n",
        "\n",
        "test_acc"
      ],
      "metadata": {
        "colab": {
          "base_uri": "https://localhost:8080/"
        },
        "id": "c8-FXtnrT-YX",
        "outputId": "34de7555-a09f-48b4-dbab-8693acd976ec"
      },
      "execution_count": 14,
      "outputs": [
        {
          "output_type": "stream",
          "name": "stdout",
          "text": [
            "44/44 - 1s - loss: 193.5643 - accuracy: 0.8187 - 1s/epoch - 32ms/step\n"
          ]
        },
        {
          "output_type": "execute_result",
          "data": {
            "text/plain": [
              "0.8187091946601868"
            ]
          },
          "metadata": {},
          "execution_count": 14
        }
      ]
    },
    {
      "cell_type": "markdown",
      "source": [
        "Based on this we can see that there is **Overfitting**. We see that there is low accuracy on the testing dataset compare to the training dataset.\n",
        "\n",
        "---\n",
        "\n"
      ],
      "metadata": {
        "id": "mhREYDabU8e2"
      }
    },
    {
      "cell_type": "code",
      "source": [
        "#lets see the graphical representation of the overfitting problem \n",
        "plt.plot(history.history['accuracy'])\n",
        "plt.plot(history.history['val_accuracy'])\n",
        "plt.title('Model accuracy')\n",
        "plt.ylabel('Accuracy')\n",
        "plt.xlabel('Epoch')\n",
        "plt.legend(['Train', 'Test'], loc='upper left')\n",
        "plt.show()"
      ],
      "metadata": {
        "colab": {
          "base_uri": "https://localhost:8080/",
          "height": 295
        },
        "id": "FyyyZTW2VFet",
        "outputId": "8598954b-abd9-4069-9d6f-097435e4a9af"
      },
      "execution_count": 19,
      "outputs": [
        {
          "output_type": "display_data",
          "data": {
            "text/plain": [
              "<Figure size 432x288 with 1 Axes>"
            ],
            "image/png": "[encoded data removed]"
          },
          "metadata": {
            "needs_background": "light"
          }
        }
      ]
    },
    {
      "cell_type": "code",
      "source": [
        "# Plot loss values vs epoch\n",
        "plt.plot(history.history['loss'])\n",
        "plt.plot(history.history['val_loss'])\n",
        "plt.title('Model loss')\n",
        "plt.ylabel('Loss')\n",
        "plt.xlabel('Epoch')\n",
        "plt.legend(['Train', 'Test'], loc='upper left')\n",
        "plt.show()"
      ],
      "metadata": {
        "colab": {
          "base_uri": "https://localhost:8080/",
          "height": 295
        },
        "id": "3sMHsNZNYBuZ",
        "outputId": "0062da26-928f-4445-c004-f5d72000af8d"
      },
      "execution_count": 20,
      "outputs": [
        {
          "output_type": "display_data",
          "data": {
            "text/plain": [
              "<Figure size 432x288 with 1 Axes>"
            ],
            "image/png": "[encoded data removed]"
          },
          "metadata": {
            "needs_background": "light"
          }
        }
      ]
    },
    {
      "cell_type": "markdown",
      "source": [
        "To prevent the overfitting, lets add weight regularization and dropout to our model"
      ],
      "metadata": {
        "id": "cxZqCgxKYOmy"
      }
    },
    {
      "cell_type": "code",
      "source": [
        "# improved model to prevent overfitting\n",
        "model = Sequential([\n",
        "  layers.experimental.preprocessing.Rescaling(1./255, input_shape=(img_height, img_width, 3)),\n",
        "  layers.Dense(10, activation='relu',kernel_regularizer=regularizers.l2(0.001)),\n",
        "  layers.Dropout(0.5),\n",
        "  layers.Flatten(),\n",
        "  layers.Dense(len(class_names),kernel_regularizer=regularizers.l2(0.001)),\n",
        "  layers.Dropout(0.5),\n",
        "])\n",
        "\n",
        "model.compile(optimizer='adam',\n",
        "              loss=keras.losses.SparseCategoricalCrossentropy(from_logits=True),\n",
        "              metrics=['accuracy'])\n",
        "\n",
        "history = model.fit(\n",
        "  train_ds,\n",
        "  validation_data=val_ds,\n",
        "  epochs=10\n",
        ")"
      ],
      "metadata": {
        "colab": {
          "base_uri": "https://localhost:8080/"
        },
        "id": "dF-NSkqHYVGI",
        "outputId": "55dc1c5f-b64c-4e9c-e603-fcd223b14e02"
      },
      "execution_count": 25,
      "outputs": [
        {
          "output_type": "stream",
          "name": "stdout",
          "text": [
            "Epoch 1/10\n",
            "173/173 [==============================] - 9s 47ms/step - loss: 4.9443 - accuracy: 0.3703 - val_loss: 1.2134 - val_accuracy: 0.7005\n",
            "Epoch 2/10\n",
            "173/173 [==============================] - 8s 46ms/step - loss: 1.7927 - accuracy: 0.4774 - val_loss: 0.8788 - val_accuracy: 0.7752\n",
            "Epoch 3/10\n",
            "173/173 [==============================] - 8s 46ms/step - loss: 1.4444 - accuracy: 0.5112 - val_loss: 0.8545 - val_accuracy: 0.8057\n",
            "Epoch 4/10\n",
            "173/173 [==============================] - 8s 46ms/step - loss: 1.3811 - accuracy: 0.5139 - val_loss: 0.8914 - val_accuracy: 0.7999\n",
            "Epoch 5/10\n",
            "173/173 [==============================] - 8s 45ms/step - loss: 1.3777 - accuracy: 0.5277 - val_loss: 0.8434 - val_accuracy: 0.8151\n",
            "Epoch 6/10\n",
            "173/173 [==============================] - 8s 46ms/step - loss: 1.3552 - accuracy: 0.5295 - val_loss: 0.8676 - val_accuracy: 0.8013\n",
            "Epoch 7/10\n",
            "173/173 [==============================] - 8s 46ms/step - loss: 1.3405 - accuracy: 0.5342 - val_loss: 0.9835 - val_accuracy: 0.7621\n",
            "Epoch 8/10\n",
            "173/173 [==============================] - 8s 47ms/step - loss: 1.3674 - accuracy: 0.5424 - val_loss: 0.8808 - val_accuracy: 0.8086\n",
            "Epoch 9/10\n",
            "173/173 [==============================] - 9s 52ms/step - loss: 1.3282 - accuracy: 0.5455 - val_loss: 0.8978 - val_accuracy: 0.8071\n",
            "Epoch 10/10\n",
            "173/173 [==============================] - 8s 46ms/step - loss: 1.3351 - accuracy: 0.5502 - val_loss: 0.8792 - val_accuracy: 0.7926\n"
          ]
        }
      ]
    },
    {
      "cell_type": "code",
      "source": [
        "test_loss, test_acc = model.evaluate(val_ds, verbose=2)\n",
        "test_acc"
      ],
      "metadata": {
        "colab": {
          "base_uri": "https://localhost:8080/"
        },
        "id": "y3AFtIvlb2_7",
        "outputId": "b6691ffc-99fc-4d43-8e04-85f5ff4b35c1"
      },
      "execution_count": 26,
      "outputs": [
        {
          "output_type": "stream",
          "name": "stdout",
          "text": [
            "44/44 - 1s - loss: 0.8792 - accuracy: 0.7926 - 1s/epoch - 33ms/step\n"
          ]
        },
        {
          "output_type": "execute_result",
          "data": {
            "text/plain": [
              "0.7926033139228821"
            ]
          },
          "metadata": {},
          "execution_count": 26
        }
      ]
    },
    {
      "cell_type": "markdown",
      "source": [
        "Here we are facing underfitting : tesing acc >> training acc"
      ],
      "metadata": {
        "id": "js7dsUkYbBzr"
      }
    },
    {
      "cell_type": "code",
      "source": [
        "acc = history.history['accuracy']\n",
        "val_acc = history.history['val_accuracy']\n",
        "\n",
        "loss = history.history['loss']\n",
        "val_loss = history.history['val_loss']\n",
        "\n",
        "epochs_range = range(10)\n",
        "\n",
        "plt.figure(figsize=(8, 8))\n",
        "plt.subplot(1, 2, 1)\n",
        "plt.plot(epochs_range, acc, label='Training Accuracy')\n",
        "plt.plot(epochs_range, val_acc, label='Validation Accuracy')\n",
        "plt.legend(loc='lower right')\n",
        "plt.title('Training and Validation Accuracy')\n",
        "\n",
        "plt.subplot(1, 2, 1)\n",
        "plt.plot(epochs_range, loss, label='Training Loss')\n",
        "plt.plot(epochs_range, val_loss, label='Validation Loss')\n",
        "plt.legend(loc='upper right')\n",
        "plt.title('Training and Validation Loss')\n",
        "plt.show()"
      ],
      "metadata": {
        "colab": {
          "base_uri": "https://localhost:8080/",
          "height": 555
        },
        "id": "Ok44t8vfbLlt",
        "outputId": "3779f1ae-4e82-43fd-f75d-7a5c0001bf48"
      },
      "execution_count": 27,
      "outputs": [
        {
          "output_type": "stream",
          "name": "stderr",
          "text": [
            "/usr/local/lib/python3.7/dist-packages/ipykernel_launcher.py:16: MatplotlibDeprecationWarning: Adding an axes using the same arguments as a previous axes currently reuses the earlier instance.  In a future version, a new instance will always be created and returned.  Meanwhile, this warning can be suppressed, and the future behavior ensured, by passing a unique label to each axes instance.\n",
            "  app.launch_new_instance()\n"
          ]
        },
        {
          "output_type": "display_data",
          "data": {
            "text/plain": [
              "<Figure size 576x576 with 1 Axes>"
            ],
            "image/png": "[encoded data removed]"
          },
          "metadata": {
            "needs_background": "light"
          }
        }
      ]
    },
    {
      "cell_type": "code",
      "source": [
        "plt.plot(history.history['accuracy'])\n",
        "plt.plot(history.history['val_accuracy'])\n",
        "plt.title('Model accuracy')\n",
        "plt.ylabel('Accuracy')\n",
        "plt.xlabel('Epoch')\n",
        "plt.legend(['Train', 'Test'], loc='upper left')\n",
        "plt.show()\n",
        "\n",
        "# Plot loss values vs epoch\n",
        "plt.plot(history.history['loss'])\n",
        "plt.plot(history.history['val_loss'])\n",
        "plt.title('Model loss')\n",
        "plt.ylabel('Loss')\n",
        "plt.xlabel('Epoch')\n",
        "plt.legend(['Train', 'Test'], loc='upper left')\n",
        "plt.show()"
      ],
      "metadata": {
        "colab": {
          "base_uri": "https://localhost:8080/",
          "height": 573
        },
        "id": "UZ_HkG-wcJEO",
        "outputId": "966b2f67-46d3-4627-a273-1326c8d25891"
      },
      "execution_count": 28,
      "outputs": [
        {
          "output_type": "display_data",
          "data": {
            "text/plain": [
              "<Figure size 432x288 with 1 Axes>"
            ],
            "image/png": "[encoded data removed]"
          },
          "metadata": {
            "needs_background": "light"
          }
        },
        {
          "output_type": "display_data",
          "data": {
            "text/plain": [
              "<Figure size 432x288 with 1 Axes>"
            ],
            "image/png": "[encoded data removed]"
          },
          "metadata": {
            "needs_background": "light"
          }
        }
      ]
    },
    {
      "cell_type": "markdown",
      "source": [
        "To resolve the issues, we will add 6 conv2D layers\n",
        "\n",
        "To Handle underfitting in CNN\n",
        " - add more layers \n",
        " - add more neurons in each layer\n",
        " - change the layer used previously "
      ],
      "metadata": {
        "id": "kqVv-QRwdo6v"
      }
    },
    {
      "cell_type": "code",
      "source": [
        "model = models.Sequential([\n",
        "    #keras.layers.Flatten(input_shape=IMAGE_SHAPE),\n",
        "    keras.layers.Conv2D(32, (5, 5), activation=keras.activations.relu),\n",
        "    keras.layers.MaxPooling2D(pool_size=(2, 2)),\n",
        "    keras.layers.BatchNormalization(axis = 1),\n",
        "    keras.layers.Dropout(0.22), \n",
        "    keras.layers.Conv2D(32, kernel_size=(5, 5), activation=keras.activations.relu),\n",
        "    keras.layers.AveragePooling2D(pool_size=(2, 2)),\n",
        "    keras.layers.BatchNormalization(axis = 1),\n",
        "    keras.layers.Dropout(0.25),\n",
        "    keras.layers.Conv2D(32, kernel_size=(4, 4), activation=keras.activations.relu),\n",
        "    keras.layers.AveragePooling2D(pool_size=(2, 2)),\n",
        "    keras.layers.BatchNormalization(axis = 1),\n",
        "    keras.layers.Dropout(0.15),\n",
        "    keras.layers.Conv2D(32, kernel_size=(3, 3), activation=keras.activations.relu),\n",
        "    keras.layers.AveragePooling2D(pool_size=(2, 2)),\n",
        "    keras.layers.BatchNormalization(axis = 1),\n",
        "    keras.layers.Dropout(0.15),   \n",
        "    keras.layers.Dense(256, activation=keras.activations.relu,kernel_regularizer=keras.regularizers.l2(0.001)),\n",
        "    keras.layers.Dropout(0.25),\n",
        "    keras.layers.Dense(64, activation=keras.activations.relu,kernel_regularizer=keras.regularizers.l2(0.001)),\n",
        "    keras.layers.Dropout(0.1),\n",
        "    keras.layers.Flatten(), \n",
        "    keras.layers.Dense(8, activation=keras.activations.softmax)\n",
        "    ])\n",
        "\n",
        "model.compile(optimizer='adam',\n",
        "              loss=keras.losses.SparseCategoricalCrossentropy(from_logits=True),\n",
        "              metrics=['accuracy'])\n",
        "\n",
        "history = model.fit(\n",
        "  train_ds,\n",
        "  validation_data=val_ds,\n",
        "  epochs=50\n",
        ")"
      ],
      "metadata": {
        "colab": {
          "base_uri": "https://localhost:8080/"
        },
        "id": "29wXObDBfLOV",
        "outputId": "6ec4949d-1ec7-47a9-8103-343511832f43"
      },
      "execution_count": 30,
      "outputs": [
        {
          "metadata": {
            "tags": null
          },
          "name": "stdout",
          "output_type": "stream",
          "text": [
            "Epoch 1/50\n"
          ]
        },
        {
          "metadata": {
            "tags": null
          },
          "name": "stderr",
          "output_type": "stream",
          "text": [
            "/usr/local/lib/python3.7/dist-packages/tensorflow/python/util/dispatch.py:1082: UserWarning: \"`sparse_categorical_crossentropy` received `from_logits=True`, but the `output` argument was produced by a sigmoid or softmax activation and thus does not represent logits. Was this intended?\"\n",
            "  return dispatch_target(*args, **kwargs)\n"
          ]
        },
        {
          "metadata": {
            "tags": null
          },
          "name": "stdout",
          "output_type": "stream",
          "text": [
            "173/173 [==============================] - 18s 60ms/step - loss: 1.4010 - accuracy: 0.5475 - val_loss: 1.7180 - val_accuracy: 0.5562\n",
            "Epoch 2/50\n",
            "173/173 [==============================] - 10s 56ms/step - loss: 0.8936 - accuracy: 0.7284 - val_loss: 0.7073 - val_accuracy: 0.7832\n",
            "Epoch 3/50\n",
            "173/173 [==============================] - 10s 59ms/step - loss: 0.6526 - accuracy: 0.8107 - val_loss: 0.9230 - val_accuracy: 0.7121\n",
            "Epoch 4/50\n",
            "173/173 [==============================] - 10s 56ms/step - loss: 0.4843 - accuracy: 0.8598 - val_loss: 0.4785 - val_accuracy: 0.8484\n",
            "Epoch 5/50\n",
            "173/173 [==============================] - 10s 55ms/step - loss: 0.4171 - accuracy: 0.8772 - val_loss: 0.4147 - val_accuracy: 0.8876\n",
            "Epoch 6/50\n",
            "173/173 [==============================] - 10s 55ms/step - loss: 0.3587 - accuracy: 0.8973 - val_loss: 0.4022 - val_accuracy: 0.8796\n",
            "Epoch 7/50\n",
            "173/173 [==============================] - 11s 61ms/step - loss: 0.3538 - accuracy: 0.9018 - val_loss: 0.4505 - val_accuracy: 0.8629\n",
            "Epoch 8/50\n",
            "173/173 [==============================] - 10s 56ms/step - loss: 0.3064 - accuracy: 0.9098 - val_loss: 0.3565 - val_accuracy: 0.8992\n",
            "Epoch 9/50\n",
            "173/173 [==============================] - 10s 55ms/step - loss: 0.2763 - accuracy: 0.9239 - val_loss: 0.3555 - val_accuracy: 0.8927\n",
            "Epoch 10/50\n",
            "173/173 [==============================] - 10s 55ms/step - loss: 0.2543 - accuracy: 0.9232 - val_loss: 0.3526 - val_accuracy: 0.8970\n",
            "Epoch 11/50\n",
            "173/173 [==============================] - 10s 55ms/step - loss: 0.2328 - accuracy: 0.9350 - val_loss: 0.3497 - val_accuracy: 0.8927\n",
            "Epoch 12/50\n",
            "173/173 [==============================] - 10s 55ms/step - loss: 0.2191 - accuracy: 0.9406 - val_loss: 0.3339 - val_accuracy: 0.8963\n",
            "Epoch 13/50\n",
            "173/173 [==============================] - 10s 56ms/step - loss: 0.2059 - accuracy: 0.9431 - val_loss: 0.3414 - val_accuracy: 0.8949\n",
            "Epoch 14/50\n",
            "173/173 [==============================] - 10s 59ms/step - loss: 0.2036 - accuracy: 0.9402 - val_loss: 0.3769 - val_accuracy: 0.8847\n",
            "Epoch 15/50\n",
            "173/173 [==============================] - 10s 54ms/step - loss: 0.1972 - accuracy: 0.9455 - val_loss: 0.3151 - val_accuracy: 0.9065\n",
            "Epoch 16/50\n",
            "173/173 [==============================] - 10s 55ms/step - loss: 0.1834 - accuracy: 0.9505 - val_loss: 0.3344 - val_accuracy: 0.9007\n",
            "Epoch 17/50\n",
            "173/173 [==============================] - 10s 54ms/step - loss: 0.1616 - accuracy: 0.9562 - val_loss: 0.3088 - val_accuracy: 0.8985\n",
            "Epoch 18/50\n",
            "173/173 [==============================] - 10s 54ms/step - loss: 0.1586 - accuracy: 0.9565 - val_loss: 0.3338 - val_accuracy: 0.8985\n",
            "Epoch 19/50\n",
            "173/173 [==============================] - 10s 54ms/step - loss: 0.1581 - accuracy: 0.9572 - val_loss: 0.3194 - val_accuracy: 0.9021\n",
            "Epoch 20/50\n",
            "173/173 [==============================] - 10s 54ms/step - loss: 0.1508 - accuracy: 0.9583 - val_loss: 0.3733 - val_accuracy: 0.8912\n",
            "Epoch 21/50\n",
            "173/173 [==============================] - 10s 54ms/step - loss: 0.1461 - accuracy: 0.9629 - val_loss: 0.3206 - val_accuracy: 0.9094\n",
            "Epoch 22/50\n",
            "173/173 [==============================] - 10s 55ms/step - loss: 0.1395 - accuracy: 0.9656 - val_loss: 0.3953 - val_accuracy: 0.8803\n",
            "Epoch 23/50\n",
            "173/173 [==============================] - 10s 54ms/step - loss: 0.1331 - accuracy: 0.9659 - val_loss: 0.3480 - val_accuracy: 0.8876\n",
            "Epoch 24/50\n",
            "173/173 [==============================] - 10s 59ms/step - loss: 0.1271 - accuracy: 0.9681 - val_loss: 0.3224 - val_accuracy: 0.9021\n",
            "Epoch 25/50\n",
            "173/173 [==============================] - 10s 55ms/step - loss: 0.1375 - accuracy: 0.9645 - val_loss: 0.3017 - val_accuracy: 0.9028\n",
            "Epoch 26/50\n",
            "173/173 [==============================] - 10s 54ms/step - loss: 0.1195 - accuracy: 0.9719 - val_loss: 0.2879 - val_accuracy: 0.9173\n",
            "Epoch 27/50\n",
            "173/173 [==============================] - 10s 54ms/step - loss: 0.1145 - accuracy: 0.9723 - val_loss: 0.3612 - val_accuracy: 0.8978\n",
            "Epoch 28/50\n",
            "173/173 [==============================] - 10s 54ms/step - loss: 0.1150 - accuracy: 0.9736 - val_loss: 0.3312 - val_accuracy: 0.9079\n",
            "Epoch 29/50\n",
            "173/173 [==============================] - 10s 54ms/step - loss: 0.1159 - accuracy: 0.9728 - val_loss: 0.2977 - val_accuracy: 0.9115\n",
            "Epoch 30/50\n",
            "173/173 [==============================] - 10s 54ms/step - loss: 0.1197 - accuracy: 0.9710 - val_loss: 0.3407 - val_accuracy: 0.8970\n",
            "Epoch 31/50\n",
            "173/173 [==============================] - 10s 59ms/step - loss: 0.1083 - accuracy: 0.9728 - val_loss: 0.3138 - val_accuracy: 0.9057\n",
            "Epoch 32/50\n",
            "173/173 [==============================] - 10s 55ms/step - loss: 0.1123 - accuracy: 0.9723 - val_loss: 0.3852 - val_accuracy: 0.8934\n",
            "Epoch 33/50\n",
            "173/173 [==============================] - 10s 54ms/step - loss: 0.1044 - accuracy: 0.9763 - val_loss: 0.4915 - val_accuracy: 0.8687\n",
            "Epoch 34/50\n",
            "173/173 [==============================] - 10s 54ms/step - loss: 0.1062 - accuracy: 0.9750 - val_loss: 0.3431 - val_accuracy: 0.9043\n",
            "Epoch 35/50\n",
            "173/173 [==============================] - 10s 54ms/step - loss: 0.1058 - accuracy: 0.9759 - val_loss: 0.4096 - val_accuracy: 0.8949\n",
            "Epoch 36/50\n",
            "173/173 [==============================] - 10s 54ms/step - loss: 0.0992 - accuracy: 0.9779 - val_loss: 0.3470 - val_accuracy: 0.9101\n",
            "Epoch 37/50\n",
            "173/173 [==============================] - 9s 53ms/step - loss: 0.1159 - accuracy: 0.9717 - val_loss: 0.3833 - val_accuracy: 0.8876\n",
            "Epoch 38/50\n",
            "173/173 [==============================] - 9s 53ms/step - loss: 0.1025 - accuracy: 0.9746 - val_loss: 0.3373 - val_accuracy: 0.9086\n",
            "Epoch 39/50\n",
            "173/173 [==============================] - 9s 53ms/step - loss: 0.0988 - accuracy: 0.9788 - val_loss: 0.3049 - val_accuracy: 0.9108\n",
            "Epoch 40/50\n",
            "173/173 [==============================] - 10s 54ms/step - loss: 0.0836 - accuracy: 0.9835 - val_loss: 0.3361 - val_accuracy: 0.9043\n",
            "Epoch 41/50\n",
            "173/173 [==============================] - 10s 57ms/step - loss: 0.0841 - accuracy: 0.9822 - val_loss: 0.3411 - val_accuracy: 0.9036\n",
            "Epoch 42/50\n",
            "173/173 [==============================] - 9s 53ms/step - loss: 0.1158 - accuracy: 0.9697 - val_loss: 0.3025 - val_accuracy: 0.9086\n",
            "Epoch 43/50\n",
            "173/173 [==============================] - 10s 54ms/step - loss: 0.0871 - accuracy: 0.9790 - val_loss: 0.3481 - val_accuracy: 0.9065\n",
            "Epoch 44/50\n",
            "173/173 [==============================] - 10s 54ms/step - loss: 0.0922 - accuracy: 0.9793 - val_loss: 0.3159 - val_accuracy: 0.9050\n",
            "Epoch 45/50\n",
            "173/173 [==============================] - 10s 54ms/step - loss: 0.0902 - accuracy: 0.9795 - val_loss: 0.3853 - val_accuracy: 0.9036\n",
            "Epoch 46/50\n",
            "173/173 [==============================] - 9s 53ms/step - loss: 0.0797 - accuracy: 0.9826 - val_loss: 0.4004 - val_accuracy: 0.8999\n",
            "Epoch 47/50\n",
            "173/173 [==============================] - 10s 54ms/step - loss: 0.0895 - accuracy: 0.9806 - val_loss: 0.2916 - val_accuracy: 0.9173\n",
            "Epoch 48/50\n",
            "173/173 [==============================] - 10s 57ms/step - loss: 0.0772 - accuracy: 0.9859 - val_loss: 0.3599 - val_accuracy: 0.9007\n",
            "Epoch 49/50\n",
            "173/173 [==============================] - 10s 54ms/step - loss: 0.0768 - accuracy: 0.9832 - val_loss: 0.3362 - val_accuracy: 0.9101\n",
            "Epoch 50/50\n",
            "173/173 [==============================] - 10s 54ms/step - loss: 0.0822 - accuracy: 0.9812 - val_loss: 0.3373 - val_accuracy: 0.9144\n"
          ]
        }
      ]
    },
    {
      "cell_type": "code",
      "source": [
        "test_loss, test_acc = model.evaluate(val_ds, verbose=2)\n",
        "test_acc"
      ],
      "metadata": {
        "colab": {
          "base_uri": "https://localhost:8080/"
        },
        "id": "4sZQ6_Jlib0k",
        "outputId": "d0e0bdd2-5e39-4e10-82ac-13ca1109f1b5"
      },
      "execution_count": 31,
      "outputs": [
        {
          "output_type": "stream",
          "name": "stdout",
          "text": [
            "44/44 - 3s - loss: 0.3373 - accuracy: 0.9144 - 3s/epoch - 63ms/step\n"
          ]
        },
        {
          "output_type": "execute_result",
          "data": {
            "text/plain": [
              "0.9144307374954224"
            ]
          },
          "metadata": {},
          "execution_count": 31
        }
      ]
    }
  ]
}