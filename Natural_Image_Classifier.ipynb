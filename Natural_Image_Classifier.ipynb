{
  "nbformat": 4,
  "nbformat_minor": 0,
  "metadata": {
    "colab": {
      "provenance": [],
      "toc_visible": true
    },
    "kernelspec": {
      "name": "python3",
      "display_name": "Python 3"
    },
    "language_info": {
      "name": "python"
    },
    "accelerator": "GPU",
    "gpuClass": "standard"
  },
  "cells": [
    {
      "cell_type": "code",
      "source": [
        "# setting up the connection between kaggle and colab"
      ],
      "metadata": {
        "id": "gsQagYOVNvke"
      },
      "execution_count": null,
      "outputs": []
    },
    {
      "cell_type": "code",
      "execution_count": null,
      "metadata": {
        "id": "bVTEPsPoMmxO"
      },
      "outputs": [],
      "source": [
        "pip install kaggle "
      ]
    },
    {
      "cell_type": "code",
      "source": [
        "mkdir ~/.kaggle"
      ],
      "metadata": {
        "id": "oXB2lBSYM5MS"
      },
      "execution_count": null,
      "outputs": []
    },
    {
      "cell_type": "code",
      "source": [
        "cp kaggle.json ~/.kaggle"
      ],
      "metadata": {
        "id": "v6nH-BAHM_Fi"
      },
      "execution_count": null,
      "outputs": []
    },
    {
      "cell_type": "code",
      "source": [
        "! kaggle datasets download -d prasunroy/natural-images"
      ],
      "metadata": {
        "id": "Kk677l5ANBkU"
      },
      "execution_count": null,
      "outputs": []
    },
    {
      "cell_type": "code",
      "source": [
        "! unzip natural-images.zip"
      ],
      "metadata": {
        "id": "mkK_uCuyNGPt"
      },
      "execution_count": null,
      "outputs": []
    },
    {
      "cell_type": "code",
      "source": [
        "# import libs"
      ],
      "metadata": {
        "id": "eg5LBwIgOIUR"
      },
      "execution_count": null,
      "outputs": []
    },
    {
      "cell_type": "code",
      "source": [
        "import os\n",
        "from tensorflow import keras"
      ],
      "metadata": {
        "id": "y_uE-j7GNHF7"
      },
      "execution_count": null,
      "outputs": []
    },
    {
      "cell_type": "code",
      "source": [
        "# setting up the data and spliting it for test and training"
      ],
      "metadata": {
        "id": "0Wo01MxcONTx"
      },
      "execution_count": null,
      "outputs": []
    },
    {
      "cell_type": "code",
      "source": [
        "data_dir ='./natural_images'\n",
        "batch_size = 32\n",
        "img_height = 180\n",
        "img_width = 180"
      ],
      "metadata": {
        "id": "6xRPH6opNZUB"
      },
      "execution_count": null,
      "outputs": []
    },
    {
      "cell_type": "code",
      "source": [
        "train_ds = keras.preprocessing.image_dataset_from_directory(\n",
        "                                                              data_dir,\n",
        "                                                              validation_split=0.2,\n",
        "                                                              subset=\"training\",\n",
        "                                                              seed=123,\n",
        "                                                              image_size=(img_height, img_width),\n",
        "                                                              batch_size=batch_size\n",
        "                                                            )"
      ],
      "metadata": {
        "id": "2ymi1jcwNkZ7"
      },
      "execution_count": null,
      "outputs": []
    },
    {
      "cell_type": "code",
      "source": [
        "val_ds = keras.preprocessing.image_dataset_from_directory(\n",
        "                                                            data_dir,\n",
        "                                                            validation_split=0.2,\n",
        "                                                            subset=\"validation\",\n",
        "                                                            seed=123,\n",
        "                                                            image_size=(img_height, img_width),\n",
        "                                                            batch_size=batch_size\n",
        "                                                          )"
      ],
      "metadata": {
        "colab": {
          "base_uri": "https://localhost:8080/"
        },
        "id": "8WC14mxCNlxr",
        "outputId": "144d5467-83c2-4712-e3a1-a88d0bbeee6b"
      },
      "execution_count": null,
      "outputs": [
        {
          "output_type": "stream",
          "name": "stdout",
          "text": [
            "Found 6899 files belonging to 8 classes.\n",
            "Using 1379 files for validation.\n"
          ]
        }
      ]
    },
    {
      "cell_type": "code",
      "source": [
        "# validating our data is corrextly retrived \n",
        "class_names = train_ds.class_names\n",
        "print(class_names)"
      ],
      "metadata": {
        "colab": {
          "base_uri": "https://localhost:8080/"
        },
        "id": "88pkr6ZHOqTG",
        "outputId": "d3f0ee05-2225-44f4-82e3-c66336e787e0"
      },
      "execution_count": null,
      "outputs": [
        {
          "output_type": "stream",
          "name": "stdout",
          "text": [
            "['airplane', 'car', 'cat', 'dog', 'flower', 'fruit', 'motorbike', 'person']\n"
          ]
        }
      ]
    }
  ]
}